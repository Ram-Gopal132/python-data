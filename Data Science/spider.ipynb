{
 "cells": [
  {
   "cell_type": "code",
   "execution_count": 1,
   "metadata": {},
   "outputs": [],
   "source": [
    "import requests\n",
    "from bs4 import BeautifulSoup"
   ]
  },
  {
   "cell_type": "code",
   "execution_count": null,
   "metadata": {},
   "outputs": [],
   "source": [
    "addr=\"https://www.ndtv.com/latest\"\n",
    "page=requests.get(addr)\n",
    "print(page.status_code)\n",
    "\n",
    "soup=BeautifulSoup(page.text)\n",
    "\n",
    "target=soup.find('div',attrs={'class':'lisingNews'})\n",
    "if target is not None:\n",
    "    print('target found')\n",
    "else:\n",
    "    print('could not find targetted area')\n",
    "#print(target.text)\n",
    "news=target.find_all('div',attrs={'class':'news_Itm'})\n",
    "if news is not None:\n",
    "    print(len(news),'news headline found')\n",
    "else:\n",
    "    print('could not find the tag you are looking for')\n",
    "for entry in news:\n",
    "    title=entry.find('h2',attrs={'class':'newsHdng'})\n",
    "    summary=entry.find('p',attrs={'class':'newsCont'})\n",
    "    info=entry.find('span',attrs={'class':'posted-by'})\n",
    "    \n",
    "    if title is not None:\n",
    "        print(title.text.strip())\n",
    "        print(summary.text.strip())\n",
    "        print(info.text.strip())\n",
    "        print('--------'*10)\n",
    "    else:\n",
    "        print('no title found')"
   ]
  },
  {
   "cell_type": "code",
   "execution_count": null,
   "metadata": {},
   "outputs": [],
   "source": [
    "news_data=[] #empty list\n",
    "for idx, entry in enumerate(news):\n",
    "    title=entry.find('h2',attrs={'class':'newsHdng'})\n",
    "    summary=entry.find('p',attrs={'class':'newsCont'})\n",
    "    info=entry.find('span',attrs={'class':'posted-by'})\n",
    "    if title is not None:\n",
    "        try:\n",
    "         source,location=info.text.split('|')\n",
    "        except:\n",
    "            source,location='N/A','N/A'\n",
    "        news_data.append({\n",
    "            '#':idx+1,\n",
    "            'title':title.text.strip(),\n",
    "            'summary':summary.text.strip(),\n",
    "            'source':source.strip(),\n",
    "            'location':location.strip()\n",
    "        \n",
    "        })\n",
    "    else:\n",
    "        print('no title was found')\n",
    "    print(news_data)"
   ]
  },
  {
   "cell_type": "code",
   "execution_count": null,
   "metadata": {},
   "outputs": [],
   "source": [
    "x=[11,12,13,2]\n",
    "for i,v in enumerate(x):\n",
    "    print(v)"
   ]
  },
  {
   "cell_type": "markdown",
   "metadata": {},
   "source": []
  }
 ],
 "metadata": {
  "kernelspec": {
   "display_name": "Python 3.9.12",
   "language": "python",
   "name": "python3"
  },
  "language_info": {
   "codemirror_mode": {
    "name": "ipython",
    "version": 3
   },
   "file_extension": ".py",
   "mimetype": "text/x-python",
   "name": "python",
   "nbconvert_exporter": "python",
   "pygments_lexer": "ipython3",
   "version": "3.9.12"
  },
  "orig_nbformat": 4,
  "vscode": {
   "interpreter": {
    "hash": "c3331c08b398c1a8dfb48f6796d307d67ad2996afa854ed2c40b2dd4ce625aca"
   }
  }
 },
 "nbformat": 4,
 "nbformat_minor": 2
}
