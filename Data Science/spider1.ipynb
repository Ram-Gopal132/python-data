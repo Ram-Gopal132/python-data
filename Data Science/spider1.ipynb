{
 "cells": [
  {
   "cell_type": "code",
   "execution_count": 4,
   "metadata": {},
   "outputs": [],
   "source": [
    "import requests\n",
    "from bs4 import BeautifulSoup"
   ]
  },
  {
   "cell_type": "code",
   "execution_count": 5,
   "metadata": {},
   "outputs": [],
   "source": [
    "def load_soup(url):\n",
    "    page = requests.get(url)\n",
    "    if page.status_code == 200:\n",
    "        return BeautifulSoup(page.text)"
   ]
  },
  {
   "cell_type": "code",
   "execution_count": 6,
   "metadata": {},
   "outputs": [
    {
     "name": "stdout",
     "output_type": "stream",
     "text": [
      "Data loaded\n"
     ]
    }
   ],
   "source": [
    "url = 'https://www.flipkart.com/search?q=mobiles&otracker=search&otracker1=search&marketplace=FLIPKART&as-show=on&as=off'\n",
    "soup  =load_soup(url)\n",
    "if soup is not None:\n",
    "    print('Data loaded')\n",
    "else:\n",
    "    print('Data could not be loaded')"
   ]
  },
  {
   "cell_type": "code",
   "execution_count": 7,
   "metadata": {},
   "outputs": [
    {
     "name": "stdout",
     "output_type": "stream",
     "text": [
      "Your target area found\n"
     ]
    }
   ],
   "source": [
    "target = soup.find('div', class_ ='_1YokD2 _3Mn1Gg')\n",
    "if target is not None:\n",
    "    print('Your target area found')\n",
    "else:\n",
    "    print('Very bad coder u are')"
   ]
  },
  {
   "cell_type": "code",
   "execution_count": 8,
   "metadata": {},
   "outputs": [
    {
     "name": "stdout",
     "output_type": "stream",
     "text": [
      "24 items found in page\n"
     ]
    }
   ],
   "source": [
    "items = target.find_all('div', class_ = '_2kHMtA')\n",
    "if items is not None:\n",
    "    print(len(items), 'items found in page')\n",
    "else:\n",
    "    print('You should go and sleep')"
   ]
  },
  {
   "cell_type": "code",
   "execution_count": 9,
   "metadata": {},
   "outputs": [
    {
     "name": "stdout",
     "output_type": "stream",
     "text": [
      "name Infinix HOT 12 Play (Horizon Blue, 64 GB)\n",
      "price ₹8,199\n",
      "original price ₹11,999\n",
      "no exchange offer\n",
      "rating 4.3\n",
      "review count 60,388 Ratings & 5,012 Reviews\n",
      "\n",
      "name Infinix HOT 12 Play (Daylight Green, 64 GB)\n",
      "price ₹8,199\n",
      "original price ₹11,999\n",
      "no exchange offer\n",
      "rating 4.3\n",
      "review count 60,388 Ratings & 5,012 Reviews\n",
      "\n",
      "name Infinix HOT 12 Play (Racing Black, 64 GB)\n",
      "price ₹8,199\n",
      "original price ₹11,999\n",
      "exchange upto Upto ₹7,640 Off on Exchange\n",
      "rating 4.3\n",
      "review count 60,388 Ratings & 5,012 Reviews\n",
      "\n",
      "name IAIR D22\n",
      "price ₹1,120\n",
      "original price not available\n",
      "exchange upto Bank Offer\n",
      "rating 4.1\n",
      "review count 11 Ratings & 6 Reviews\n",
      "\n",
      "name Infinix HOT 12 Play (Champagne Gold, 64 GB)\n",
      "price ₹8,199\n",
      "original price ₹11,999\n",
      "exchange upto Upto ₹7,640 Off on Exchange\n",
      "rating 4.3\n",
      "review count 60,388 Ratings & 5,012 Reviews\n",
      "\n",
      "name REDMI 9i Sport (Coral Green, 64 GB)\n",
      "price ₹7,999\n",
      "original price ₹9,999\n",
      "exchange upto Upto ₹7,460 Off on Exchange\n",
      "rating 4.4\n",
      "review count 1,42,479 Ratings & 8,176 Reviews\n",
      "\n",
      "name realme C33 (Sandy Gold, 64 GB)\n",
      "price ₹9,999\n",
      "original price ₹12,999\n",
      "no exchange offer\n",
      "rating 4.7\n",
      "review count 1,163 Ratings & 41 Reviews\n",
      "\n",
      "name IAIR D40\n",
      "price ₹1,319\n",
      "original price not available\n",
      "exchange upto Bank Offer\n",
      "rating 3.9\n",
      "review count 20 Ratings & 12 Reviews\n",
      "\n",
      "name realme C33 (Night Sea, 64 GB)\n",
      "price ₹9,999\n",
      "original price ₹12,999\n",
      "no exchange offer\n",
      "rating 4.7\n",
      "review count 1,163 Ratings & 41 Reviews\n",
      "\n",
      "name realme C33 (Aqua Blue, 32 GB)\n",
      "price ₹8,999\n",
      "original price ₹11,999\n",
      "no exchange offer\n",
      "rating 4.6\n",
      "review count 259 Ratings & 9 Reviews\n",
      "\n",
      "name realme C33 (Aqua Blue, 64 GB)\n",
      "price ₹9,999\n",
      "original price ₹12,999\n",
      "no exchange offer\n",
      "rating 4.7\n",
      "review count 1,163 Ratings & 41 Reviews\n",
      "\n",
      "name IAIR D41\n",
      "price ₹1,319\n",
      "original price not available\n",
      "exchange upto Bank Offer\n",
      "rating 3.7\n",
      "review count 18 Ratings & 6 Reviews\n",
      "\n",
      "name realme C33 (Night Sea, 32 GB)\n",
      "price ₹8,999\n",
      "original price ₹11,999\n",
      "no exchange offer\n",
      "rating 4.6\n",
      "review count 259 Ratings & 9 Reviews\n",
      "\n",
      "name realme C33 (Sandy Gold, 32 GB)\n",
      "price ₹8,999\n",
      "original price ₹11,999\n",
      "no exchange offer\n",
      "rating 4.6\n",
      "review count 259 Ratings & 9 Reviews\n",
      "\n",
      "name OPPO K10 (Black Carbon, 128 GB)\n",
      "price ₹13,490\n",
      "original price ₹18,999\n",
      "exchange upto Upto ₹12,980 Off on Exchange\n",
      "rating 4.4\n",
      "review count 54,537 Ratings & 4,334 Reviews\n",
      "\n",
      "name IAIR D23\n",
      "price ₹1,097\n",
      "original price ₹1,099\n",
      "exchange upto Bank Offer\n",
      "rating 4.1\n",
      "review count 29 Ratings & 7 Reviews\n",
      "\n",
      "name REDMI 9i Sport (Metallic Blue, 64 GB)\n",
      "price ₹7,999\n",
      "original price ₹9,999\n",
      "no exchange offer\n",
      "rating 4.4\n",
      "review count 1,42,479 Ratings & 8,176 Reviews\n",
      "\n",
      "name OPPO K10 (Blue Flame, 128 GB)\n",
      "price ₹13,490\n",
      "original price ₹18,999\n",
      "exchange upto Upto ₹12,980 Off on Exchange\n",
      "rating 4.4\n",
      "review count 54,537 Ratings & 4,334 Reviews\n",
      "\n",
      "name REDMI 9i Sport (Carbon Black, 64 GB)\n",
      "price ₹7,999\n",
      "original price ₹9,999\n",
      "exchange upto Upto ₹7,460 Off on Exchange\n",
      "rating 4.4\n",
      "review count 1,42,479 Ratings & 8,176 Reviews\n",
      "\n",
      "name IAIR D10\n",
      "price ₹1,072\n",
      "original price not available\n",
      "exchange upto Bank Offer\n",
      "rating 4\n",
      "review count 36 Ratings & 19 Reviews\n",
      "\n",
      "name SAMSUNG Galaxy F23 5G (Copper Blush, 128 GB)\n",
      "price ₹13,499\n",
      "original price ₹23,999\n",
      "exchange upto Upto ₹12,980 Off on Exchange\n",
      "rating 4.2\n",
      "review count 43,794 Ratings & 4,430 Reviews\n",
      "\n",
      "name SAMSUNG Galaxy F23 5G (Forest Green, 128 GB)\n",
      "price ₹13,499\n",
      "original price ₹23,999\n",
      "exchange upto Upto ₹12,980 Off on Exchange\n",
      "rating 4.2\n",
      "review count 43,794 Ratings & 4,430 Reviews\n",
      "\n",
      "name Infinix Smart 6 HD (Aqua Sky, 32 GB)\n",
      "price ₹6,199\n",
      "original price ₹8,999\n",
      "no exchange offer\n",
      "rating 4.6\n",
      "review count 788 Ratings & 28 Reviews\n",
      "\n",
      "name Infinix Smart 6 HD (Origin Blue, 32 GB)\n",
      "price ₹6,199\n",
      "original price ₹8,999\n",
      "no exchange offer\n",
      "rating 4.6\n",
      "review count 788 Ratings & 28 Reviews\n",
      "\n"
     ]
    }
   ],
   "source": [
    "for product in items:\n",
    "    name = product.find('div', class_='_4rR01T')\n",
    "    dprice = product.find('div', class_='_30jeq3 _1_WHN1')\n",
    "    oprice = product.find('div', class_='_3I9_wc _27UcVY')\n",
    "    exc_price = product.find_all('div', class_='_3xFhiH')\n",
    "    rating = product.find('div', class_='_3LWZlK')\n",
    "    review_count = product.find('span', class_='_2_R_DZ')\n",
    "    print('name',name.text)\n",
    "    print('price',dprice.text)\n",
    "    try:\n",
    "        print('original price',oprice.text)\n",
    "    except:\n",
    "        print('original price not available')\n",
    "    try:\n",
    "        print('exchange upto', exc_price[-1].text)\n",
    "    except:\n",
    "        print('no exchange offer')\n",
    "    try:\n",
    "        print('rating',rating.text)\n",
    "    except:\n",
    "        print('rating None')\n",
    "    try:\n",
    "        print('review count',review_count.text)\n",
    "    except:\n",
    "        print('review count Not available')\n",
    "    \n",
    "    print()"
   ]
  }
 ],
 "metadata": {
  "kernelspec": {
   "display_name": "Python 3.9.12",
   "language": "python",
   "name": "python3"
  },
  "language_info": {
   "codemirror_mode": {
    "name": "ipython",
    "version": 3
   },
   "file_extension": ".py",
   "mimetype": "text/x-python",
   "name": "python",
   "nbconvert_exporter": "python",
   "pygments_lexer": "ipython3",
   "version": "3.9.12"
  },
  "orig_nbformat": 4,
  "vscode": {
   "interpreter": {
    "hash": "c3331c08b398c1a8dfb48f6796d307d67ad2996afa854ed2c40b2dd4ce625aca"
   }
  }
 },
 "nbformat": 4,
 "nbformat_minor": 2
}
